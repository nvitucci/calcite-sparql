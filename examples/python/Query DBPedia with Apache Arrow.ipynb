{
 "cells": [
  {
   "cell_type": "markdown",
   "metadata": {},
   "source": [
    "# Running the Calcite SPARQL adapter using Apache Arrow\n",
    "\n",
    "Inspired by https://uwekorn.com/2020/12/30/fast-jdbc-revisited.html"
   ]
  },
  {
   "cell_type": "code",
   "execution_count": null,
   "metadata": {},
   "outputs": [],
   "source": [
    "!python3 -m pip install --user pyarrow"
   ]
  },
  {
   "cell_type": "code",
   "execution_count": 2,
   "metadata": {},
   "outputs": [],
   "source": [
    "import jpype.imports\n",
    "import os\n",
    "import sys\n",
    "\n",
    "from pyarrow.jvm import record_batch"
   ]
  },
  {
   "cell_type": "code",
   "execution_count": 3,
   "metadata": {},
   "outputs": [],
   "source": [
    "# Requires to run \"mvn package\" on calcite-sparql-core first\n",
    "jar = \"../../core/target/calcite-sparql-core-0.0.1-SNAPSHOT.jar\"\n",
    "\n",
    "# The following lines are not always needed, but most of the times they are because\n",
    "# the JVM is started without the needed JAR file (see for instance\n",
    "# https://github.com/baztian/jaydebeapi/issues/85)\n",
    "os.environ[\"JAVA_HOME\"] = \"/usr/lib/jvm/java-11-openjdk/\"\n",
    "os.environ[\"CLASSPATH\"] = jar\n",
    "\n",
    "args = \"-Djava.class.path=%s\" % jar\n",
    "jvm_path = jpype.getDefaultJVMPath()\n",
    "jpype.startJVM(jvm_path, args)"
   ]
  },
  {
   "cell_type": "code",
   "execution_count": 4,
   "metadata": {},
   "outputs": [],
   "source": [
    "# Java dependencies\n",
    "\n",
    "from java.lang import Class\n",
    "from java.sql import DriverManager\n",
    "\n",
    "from org.apache.arrow.adapter.jdbc import JdbcToArrowUtils, JdbcToArrowConfigBuilder\n",
    "from org.apache.arrow.memory import RootAllocator\n",
    "from org.apache.arrow.vector import VectorSchemaRoot"
   ]
  },
  {
   "cell_type": "code",
   "execution_count": null,
   "metadata": {},
   "outputs": [],
   "source": [
    "# Make sure the drivers are loaded. Without these lines, getConnection may fail.\n",
    "\n",
    "Class.forName(\"org.apache.calcite.avatica.remote.Driver\")\n",
    "Class.forName(\"org.apache.jena.jdbc.remote.RemoteEndpointDriver\")"
   ]
  },
  {
   "cell_type": "code",
   "execution_count": 6,
   "metadata": {},
   "outputs": [],
   "source": [
    "ra = RootAllocator(sys.maxsize)\n",
    "calendar = JdbcToArrowUtils.getUtcCalendar()\n",
    "\n",
    "config_builder = JdbcToArrowConfigBuilder()\n",
    "config_builder.setAllocator(ra)\n",
    "config_builder.setCalendar(calendar)\n",
    "config_builder.setTargetBatchSize(-1)\n",
    "\n",
    "pyarrow_jdbc_config = config_builder.build()"
   ]
  },
  {
   "cell_type": "code",
   "execution_count": 7,
   "metadata": {},
   "outputs": [],
   "source": [
    "def run_query(query):\n",
    "    stmt = connection.createStatement()\n",
    "    result_set = stmt.executeQuery(query)\n",
    "    \n",
    "    root = VectorSchemaRoot.create(\n",
    "        JdbcToArrowUtils.jdbcToArrowSchema(\n",
    "            result_set.getMetaData(),\n",
    "            pyarrow_jdbc_config\n",
    "        ),\n",
    "        pyarrow_jdbc_config.getAllocator()\n",
    "    )\n",
    "    \n",
    "    try:\n",
    "        JdbcToArrowUtils.jdbcToArrowVectors(result_set, root, pyarrow_jdbc_config)\n",
    "        return record_batch(root).to_pandas()\n",
    "    finally:\n",
    "        # Ensure that we clear the JVM memory\n",
    "        root.clear()\n",
    "        stmt.close()"
   ]
  },
  {
   "cell_type": "code",
   "execution_count": 8,
   "metadata": {},
   "outputs": [],
   "source": [
    "connection = DriverManager.getConnection(\"jdbc:calcite:model=../java/src/main/resources/modelClassRemote.json;lex=JAVA\")"
   ]
  },
  {
   "cell_type": "code",
   "execution_count": null,
   "metadata": {},
   "outputs": [],
   "source": [
    "query = \"\"\"\n",
    "SELECT w3_label, w3_comment, w3_sameAs, xmlns_name, xmlns_homepage, xmlns_depiction\n",
    "FROM Company\n",
    "LIMIT 10\n",
    "\"\"\"\n",
    "\n",
    "run_query(query)"
   ]
  }
 ],
 "metadata": {
  "kernelspec": {
   "display_name": "Python 3",
   "language": "python",
   "name": "python3"
  },
  "language_info": {
   "codemirror_mode": {
    "name": "ipython",
    "version": 3
   },
   "file_extension": ".py",
   "mimetype": "text/x-python",
   "name": "python",
   "nbconvert_exporter": "python",
   "pygments_lexer": "ipython3",
   "version": "3.7.7"
  }
 },
 "nbformat": 4,
 "nbformat_minor": 2
}
