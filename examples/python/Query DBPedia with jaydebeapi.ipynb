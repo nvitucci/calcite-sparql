{
 "cells": [
  {
   "cell_type": "markdown",
   "metadata": {},
   "source": [
    "# Running the Calcite SPARQL adapter using the jaydebeapi library"
   ]
  },
  {
   "cell_type": "code",
   "execution_count": null,
   "metadata": {},
   "outputs": [],
   "source": [
    "!python3 -m pip install --user jaydebeapi"
   ]
  },
  {
   "cell_type": "code",
   "execution_count": null,
   "metadata": {},
   "outputs": [],
   "source": [
    "import jaydebeapi\n",
    "import os\n",
    "import jpype"
   ]
  },
  {
   "cell_type": "code",
   "execution_count": null,
   "metadata": {},
   "outputs": [],
   "source": [
    "# Requires to run \"mvn package\" on calcite-sparql-core first\n",
    "jar = \"../../core/target/calcite-sparql-core-0.0.1-SNAPSHOT.jar\"\n",
    "\n",
    "# The following lines are not always needed, but most of the times they are because\n",
    "# the JVM is started without the needed JAR file (see for instance\n",
    "# https://github.com/baztian/jaydebeapi/issues/85)\n",
    "os.environ[\"JAVA_HOME\"] = \"/usr/lib/jvm/java-11-openjdk/\"\n",
    "os.environ[\"CLASSPATH\"] = jar\n",
    "\n",
    "args = \"-Djava.class.path=%s\" % jar\n",
    "jvm_path = jpype.getDefaultJVMPath()\n",
    "jpype.startJVM(jvm_path, args)"
   ]
  },
  {
   "cell_type": "code",
   "execution_count": null,
   "metadata": {},
   "outputs": [],
   "source": [
    "query = \"\"\"\n",
    "SELECT w3_label, w3_comment, w3_sameAs, xmlns_name, xmlns_homepage, xmlns_depiction\n",
    "FROM Company\n",
    "LIMIT 10\n",
    "\"\"\"\n",
    "\n",
    "with jaydebeapi.connect(\n",
    "    \"org.apache.calcite.avatica.remote.Driver\",\n",
    "    \"jdbc:calcite:model=../java/src/main/resources/modelClassRemote.json\",\n",
    "    driver_args={\"lex\": \"JAVA\"},\n",
    "    jars=jar\n",
    ") as conn:\n",
    "    with conn.cursor() as curs:\n",
    "        curs.execute(query)\n",
    "        print(curs.fetchone())"
   ]
  }
 ],
 "metadata": {
  "kernelspec": {
   "display_name": "Python 3",
   "language": "python",
   "name": "python3"
  },
  "language_info": {
   "codemirror_mode": {
    "name": "ipython",
    "version": 3
   },
   "file_extension": ".py",
   "mimetype": "text/x-python",
   "name": "python",
   "nbconvert_exporter": "python",
   "pygments_lexer": "ipython3",
   "version": "3.7.7"
  }
 },
 "nbformat": 4,
 "nbformat_minor": 2
}
